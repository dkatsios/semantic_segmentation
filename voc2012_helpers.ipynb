{
  "nbformat": 4,
  "nbformat_minor": 0,
  "metadata": {
    "colab": {
      "name": "voc2012_helpers.ipynb",
      "version": "0.3.2",
      "provenance": [],
      "collapsed_sections": []
    },
    "kernelspec": {
      "name": "python3",
      "display_name": "Python 3"
    }
  },
  "cells": [
    {
      "cell_type": "markdown",
      "metadata": {
        "id": "view-in-github",
        "colab_type": "text"
      },
      "source": [
        "[View in Colaboratory](https://colab.research.google.com/github/dkatsios/semantic_segmentation/blob/master/voc2012_helpers.ipynb)"
      ]
    },
    {
      "metadata": {
        "id": "pVOeS71rHllw",
        "colab_type": "code",
        "colab": {
          "base_uri": "https://localhost:8080/",
          "height": 34
        },
        "outputId": "2749c4ff-8430-465b-833c-4f01aceed744"
      },
      "cell_type": "code",
      "source": [
        "import numpy as np\n",
        "import cv2\n",
        "from time import time\n",
        "from keras.utils.np_utils import to_categorical"
      ],
      "execution_count": 5,
      "outputs": [
        {
          "output_type": "stream",
          "text": [
            "Using TensorFlow backend.\n"
          ],
          "name": "stderr"
        }
      ]
    },
    {
      "metadata": {
        "id": "bmNz5dAVHRUX",
        "colab_type": "code",
        "colab": {}
      },
      "cell_type": "code",
      "source": [
        "def get_lists_from_folders(train_list_path, val_list_path, imgs_folder, classes_folder):\n",
        "  train_list = []\n",
        "  with open(train_list_path) as f:\n",
        "    for line in f:\n",
        "      line = line.strip()\n",
        "      if len(line) > 1:\n",
        "        train_list.append(line)\n",
        "        \n",
        "  train_imgs_list = [imgs_folder + name + '.jpg' for name in train_list]\n",
        "  train_classes_list = [classes_folder + name + '.png' for name in train_list]\n",
        "  \n",
        "  val_list = []\n",
        "  with open(val_list_path) as f:\n",
        "    for line in f:\n",
        "      line = line.strip()\n",
        "      if len(line) > 1:\n",
        "        val_list.append(line)\n",
        "        \n",
        "  val_imgs_list = [imgs_folder + name + '.jpg' for name in val_list]\n",
        "  val_classes_list = [classes_folder + name + '.png' for name in val_list]\n",
        "  \n",
        "  train_lists = train_imgs_list, train_classes_list\n",
        "  val_lists = val_imgs_list, val_classes_list\n",
        "  \n",
        "  return train_lists, val_lists"
      ],
      "execution_count": 0,
      "outputs": []
    },
    {
      "metadata": {
        "id": "oERorojzynZe",
        "colab_type": "code",
        "colab": {}
      },
      "cell_type": "code",
      "source": [
        "def imgs_generator(rgb_imgs, num_classes, batch_size, out_resized_levels, segmentation_classes):\n",
        "  while True:\n",
        "    inds = np.random.randint(0, rgb_imgs.shape[0], batch_size)\n",
        "    batch_imgs = rgb_imgs[inds]\n",
        "    batch_classes = get_resized(num_classes[inds], out_resized_levels, segmentation_classes)[::-1]\n",
        "    yield batch_imgs, batch_classes"
      ],
      "execution_count": 0,
      "outputs": []
    },
    {
      "metadata": {
        "id": "QIyq3eTPylIH",
        "colab_type": "code",
        "colab": {}
      },
      "cell_type": "code",
      "source": [
        "def get_resized(num_classes, out_resized_levels, segmentation_classes):\n",
        "  batch_size = num_classes.shape[0]\n",
        "  or_size = num_classes.shape[1:]\n",
        "  assert len(or_size) == 2, num_classes.shape\n",
        "  if out_resized_levels == 0:\n",
        "    return make_one_hot(num_classes, segmentation_classes)\n",
        "  resized_classes = [make_one_hot(num_classes, segmentation_classes)]\n",
        "  for i in range(out_resized_levels):\n",
        "    size = or_size[0] // (2 ** (i+1)), or_size[1] // (2 ** (i+1))\n",
        "    resized = np.zeros((batch_size, *size))\n",
        "    for j in range(batch_size):\n",
        "      resized[j] = cv2.resize(num_classes[j], size, interpolation=cv2.INTER_NEAREST)\n",
        "    resized = make_one_hot(resized, segmentation_classes)\n",
        "    resized_classes.append(resized)\n",
        "  return resized_classes"
      ],
      "execution_count": 0,
      "outputs": []
    },
    {
      "metadata": {
        "id": "BC6wlB8w2yAT",
        "colab_type": "code",
        "colab": {}
      },
      "cell_type": "code",
      "source": [
        "def get_cmap_dict(reversed=False):\n",
        "  def color_map(N=256, normalized=False):\n",
        "    \n",
        "    def bitget(byteval, idx):\n",
        "        return ((byteval & (1 << idx)) != 0)\n",
        "\n",
        "    dtype = 'float32' if normalized else 'uint8'\n",
        "    cmap = np.zeros((N, 3), dtype=dtype)\n",
        "    \n",
        "    for i in range(N):\n",
        "        r = g = b = 0\n",
        "        c = i\n",
        "        for j in range(8):\n",
        "            r = r | (bitget(c, 0) << 7-j)\n",
        "            g = g | (bitget(c, 1) << 7-j)\n",
        "            b = b | (bitget(c, 2) << 7-j)\n",
        "            c = c >> 3\n",
        "        cmap[i] = np.array([r, g, b])\n",
        "    cmap = cmap/255 if normalized else cmap\n",
        "    return cmap\n",
        "  \n",
        "  cmap = color_map()\n",
        "  cmap_dict = dict()\n",
        "  for i in range(cmap.shape[0]):\n",
        "    if reversed:\n",
        "      cmap_dict[i] = tuple(cmap[i].astype(np.int64))\n",
        "    else:\n",
        "      cmap_dict[tuple(cmap[i].astype(np.int64))] = i\n",
        "  return cmap_dict"
      ],
      "execution_count": 0,
      "outputs": []
    },
    {
      "metadata": {
        "id": "l6aIM4sTHZ3a",
        "colab_type": "code",
        "colab": {}
      },
      "cell_type": "code",
      "source": [
        "def get_imgs_classes_arrays(imgs_list, classes_list, img_shape):\n",
        "  assert len(imgs_list) == len(classes_list)\n",
        "\n",
        "  def color_to_nums(num_classes, cmap_dict):\n",
        "    nums = np.zeros(num_classes.shape[:-1], dtype=np.int64)\n",
        "    mul = np.array([1, 10, 100])\n",
        "    factor = np.tile(mul, (*num_classes.shape[:-1], 1))\n",
        "    nums = np.multiply(num_classes, factor)\n",
        "    nums = np.sum(nums, axis=-1)\n",
        "    for key, value in cmap_dict.items():\n",
        "      key = np.asarray(key).astype(np.int64)\n",
        "      key = np.sum(np.multiply(key, mul))\n",
        "      nums[nums == key] = value\n",
        "    return nums\n",
        "  \n",
        "  print('start constructing arrays')\n",
        "  start = time()\n",
        "  cmap_dict = get_cmap_dict()\n",
        "  \n",
        "  img_shape = img_shape\n",
        "  rgb_imgs = np.zeros((len(imgs_list), *img_shape), dtype=np.uint8)\n",
        "  num_classes = np.zeros((len(classes_list), *img_shape[:-1]), dtype=np.uint8)\n",
        "  \n",
        "  for ind in range(len(imgs_list)):\n",
        "    img = cv2.imread(imgs_list[ind])\n",
        "    rgb_img = cv2.cvtColor(img, cv2.COLOR_BGR2RGB)\n",
        "    rgb_resized = cv2.resize(rgb_img, img_shape[:-1])\n",
        "    rgb_imgs[ind] = rgb_resized\n",
        "    \n",
        "    cls = cv2.imread(classes_list[ind])\n",
        "    rgb_cls = cv2.cvtColor(cls, cv2.COLOR_BGR2RGB)\n",
        "    cls_resized = cv2.resize(rgb_cls, img_shape[:-1], interpolation=cv2.INTER_NEAREST)\n",
        "    num_class = color_to_nums(cls_resized, cmap_dict)\n",
        "    num_classes[ind] = num_class\n",
        "  print('arrays constructed. time: %d secs' % int(time() - start))\n",
        "  return rgb_imgs, num_classes"
      ],
      "execution_count": 0,
      "outputs": []
    },
    {
      "metadata": {
        "id": "AipTtTrobuGB",
        "colab_type": "code",
        "colab": {}
      },
      "cell_type": "code",
      "source": [
        "def make_one_hot(batch_labels, segmentation_classes):\n",
        "  batch_labels[batch_labels == 255] = segmentation_classes\n",
        "  categorical_labels = to_categorical(batch_labels, num_classes=segmentation_classes+1)\n",
        "  return categorical_labels"
      ],
      "execution_count": 0,
      "outputs": []
    },
    {
      "metadata": {
        "id": "WoO13HzkBv4Z",
        "colab_type": "code",
        "colab": {}
      },
      "cell_type": "code",
      "source": [
        "def get_class_weight(seg_classes, background_ratio = 1/5):\n",
        "  class_weight = dict()\n",
        "  class_weight[0] = background_ratio / seg_classes\n",
        "  for i in range(1, seg_classes):\n",
        "    class_weight[i] = 1 / seg_classes + (1 - background_ratio) / seg_classes ** 2\n",
        "  class_weight[seg_classes] = 0\n",
        "  return class_weight"
      ],
      "execution_count": 0,
      "outputs": []
    }
  ]
}