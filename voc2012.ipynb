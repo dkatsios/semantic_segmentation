{
  "nbformat": 4,
  "nbformat_minor": 0,
  "metadata": {
    "colab": {
      "name": "voc2012.ipynb",
      "version": "0.3.2",
      "provenance": [],
      "collapsed_sections": []
    },
    "kernelspec": {
      "name": "python3",
      "display_name": "Python 3"
    },
    "accelerator": "GPU"
  },
  "cells": [
    {
      "cell_type": "markdown",
      "metadata": {
        "id": "view-in-github",
        "colab_type": "text"
      },
      "source": [
        "[View in Colaboratory](https://colab.research.google.com/github/dkatsios/semantic_segmentation/blob/master/voc2012.ipynb)"
      ]
    },
    {
      "metadata": {
        "id": "43IKGALxGDr4",
        "colab_type": "code",
        "colab": {
          "base_uri": "https://localhost:8080/",
          "height": 34
        },
        "outputId": "2fa9d288-405d-4f6b-f0b8-a31f0f459300"
      },
      "cell_type": "code",
      "source": [
        "import numpy as np\n",
        "import os\n",
        "from shutil import unpack_archive\n",
        "import cv2\n",
        "from matplotlib import pyplot as plt\n",
        "from IPython.display import Image\n",
        "import PIL\n",
        "from keras.optimizers import Adam\n",
        "from time import time\n",
        "from google.colab import files\n",
        "import keras\n",
        "from keras.models import load_model\n",
        "from keras.callbacks import ModelCheckpoint\n",
        "import pickle"
      ],
      "execution_count": 1,
      "outputs": [
        {
          "output_type": "stream",
          "text": [
            "Using TensorFlow backend.\n"
          ],
          "name": "stderr"
        }
      ]
    },
    {
      "metadata": {
        "id": "foYYmKrmKCEq",
        "colab_type": "text"
      },
      "cell_type": "markdown",
      "source": [
        "### Download VOC 2012 dataset"
      ]
    },
    {
      "metadata": {
        "id": "Y-njzkyzDplH",
        "colab_type": "code",
        "colab": {
          "base_uri": "https://localhost:8080/",
          "height": 221
        },
        "outputId": "c92ecedb-2e47-442d-9f1d-93b98e1d4314"
      },
      "cell_type": "code",
      "source": [
        "%mkdir semantic_segmentation\n",
        "%cd semantic_segmentation/\n",
        "!wget http://host.robots.ox.ac.uk/pascal/VOC/voc2012/VOCtrainval_11-May-2012.tar\n",
        "unpack_archive('VOCtrainval_11-May-2012.tar', './')\n",
        "%rm VOCtrainval_11-May-2012.tar\n",
        "wdir = '/content/semantic_segmentation'"
      ],
      "execution_count": 2,
      "outputs": [
        {
          "output_type": "stream",
          "text": [
            "/content/semantic_segmentation\n",
            "--2018-06-17 04:16:54--  http://host.robots.ox.ac.uk/pascal/VOC/voc2012/VOCtrainval_11-May-2012.tar\n",
            "Resolving host.robots.ox.ac.uk (host.robots.ox.ac.uk)... 129.67.94.152\n",
            "Connecting to host.robots.ox.ac.uk (host.robots.ox.ac.uk)|129.67.94.152|:80... connected.\n",
            "HTTP request sent, awaiting response... 200 OK\n",
            "Length: 1999639040 (1.9G) [application/x-tar]\n",
            "Saving to: ‘VOCtrainval_11-May-2012.tar’\n",
            "\n",
            "VOCtrainval_11-May-  32%[=====>              ] 614.85M  13.8MB/s    eta 1m 46s "
          ],
          "name": "stdout"
        },
        {
          "output_type": "stream",
          "text": [
            "VOCtrainval_11-May- 100%[===================>]   1.86G  14.0MB/s    in 2m 23s  \n",
            "\n",
            "2018-06-17 04:19:17 (13.3 MB/s) - ‘VOCtrainval_11-May-2012.tar’ saved [1999639040/1999639040]\n",
            "\n"
          ],
          "name": "stdout"
        }
      ]
    },
    {
      "metadata": {
        "id": "w8QH4XWEy1YZ",
        "colab_type": "code",
        "colab": {
          "base_uri": "https://localhost:8080/",
          "height": 51
        },
        "outputId": "8cc07f92-c301-45b0-ca65-245f8c2dbd08"
      },
      "cell_type": "code",
      "source": [
        "%cd {wdir}/VOCdevkit/VOC2012\n",
        "!ls"
      ],
      "execution_count": 3,
      "outputs": [
        {
          "output_type": "stream",
          "text": [
            "/content/semantic_segmentation/VOCdevkit/VOC2012\n",
            "Annotations  ImageSets\tJPEGImages  SegmentationClass  SegmentationObject\n"
          ],
          "name": "stdout"
        }
      ]
    },
    {
      "metadata": {
        "id": "LNq2KWv31kW2",
        "colab_type": "code",
        "colab": {}
      },
      "cell_type": "code",
      "source": [
        "imgs_folder = wdir + '/VOCdevkit/VOC2012/JPEGImages/'\n",
        "classes_folder = wdir + '/VOCdevkit/VOC2012/SegmentationClass/'\n",
        "train_list_path = wdir + '/VOCdevkit/VOC2012/ImageSets/Segmentation/train.txt'\n",
        "val_list_path = wdir + '/VOCdevkit/VOC2012/ImageSets/Segmentation/val.txt'"
      ],
      "execution_count": 0,
      "outputs": []
    },
    {
      "metadata": {
        "id": "c32_Y5H9KQOe",
        "colab_type": "text"
      },
      "cell_type": "markdown",
      "source": [
        "### Import helpers and Model files"
      ]
    },
    {
      "metadata": {
        "id": "iRS1BasOH9_L",
        "colab_type": "code",
        "colab": {
          "base_uri": "https://localhost:8080/",
          "height": 170
        },
        "outputId": "4716c4f4-d4d8-4b50-b63a-a7536db4a603"
      },
      "cell_type": "code",
      "source": [
        "%cd {wdir}\n",
        "%rm -r {wdir}/semantic_segmentation/\n",
        "!git clone https://github.com/dkatsios/semantic_segmentation.git\n",
        "%cd {wdir}/semantic_segmentation\n",
        "!ls"
      ],
      "execution_count": 5,
      "outputs": [
        {
          "output_type": "stream",
          "text": [
            "/content/semantic_segmentation\n",
            "rm: cannot remove '/content/semantic_segmentation/semantic_segmentation/': No such file or directory\n",
            "Cloning into 'semantic_segmentation'...\n",
            "remote: Counting objects: 27, done.\u001b[K\n",
            "remote: Compressing objects: 100% (26/26), done.\u001b[K\n",
            "remote: Total 27 (delta 11), reused 0 (delta 0), pack-reused 0\u001b[K\n",
            "Unpacking objects: 100% (27/27), done.\n",
            "/content/semantic_segmentation/semantic_segmentation\n",
            "AtrusUnet.ipynb  README.md  voc2012_helpers.ipynb  voc2012.ipynb\n"
          ],
          "name": "stdout"
        }
      ]
    },
    {
      "metadata": {
        "id": "guNQw-HoICFy",
        "colab_type": "code",
        "colab": {
          "base_uri": "https://localhost:8080/",
          "height": 187
        },
        "outputId": "d4e984d8-6e3e-40ac-ad6b-4fe912f66a74"
      },
      "cell_type": "code",
      "source": [
        "!pip install import_ipynb\n",
        "import import_ipynb\n",
        "from voc2012_helpers import *\n",
        "from AtrusUnet import  *"
      ],
      "execution_count": 6,
      "outputs": [
        {
          "output_type": "stream",
          "text": [
            "Collecting import_ipynb\n",
            "  Downloading https://files.pythonhosted.org/packages/63/35/495e0021bfdcc924c7cdec4e9fbb87c88dd03b9b9b22419444dc370c8a45/import-ipynb-0.1.3.tar.gz\n",
            "Building wheels for collected packages: import-ipynb\n",
            "  Running setup.py bdist_wheel for import-ipynb ... \u001b[?25l-\b \bdone\n",
            "\u001b[?25h  Stored in directory: /content/.cache/pip/wheels/b4/7b/e9/a3a6e496115dffdb4e3085d0ae39ffe8a814eacc44bbf494b5\n",
            "Successfully built import-ipynb\n",
            "Installing collected packages: import-ipynb\n",
            "Successfully installed import-ipynb-0.1.3\n",
            "importing Jupyter notebook from voc2012_helpers.ipynb\n",
            "importing Jupyter notebook from AtrusUnet.ipynb\n"
          ],
          "name": "stdout"
        }
      ]
    },
    {
      "metadata": {
        "id": "GJYzkWcOKWmm",
        "colab_type": "text"
      },
      "cell_type": "markdown",
      "source": [
        "### Set parameters"
      ]
    },
    {
      "metadata": {
        "id": "E_UVWO53JEMZ",
        "colab_type": "code",
        "colab": {}
      },
      "cell_type": "code",
      "source": [
        "img_shape = 512, 512, 3\n",
        "filters = 128\n",
        "segmentation_classes = 21\n",
        "steps = 5\n",
        "out_resized_levels = 2\n",
        "kernel_sizes = [2, 3, 5]\n",
        "\n",
        "batch_size = 2\n",
        "epochs = 10\n",
        "val_steps = 10"
      ],
      "execution_count": 0,
      "outputs": []
    },
    {
      "metadata": {
        "id": "ikAKnviJJfKg",
        "colab_type": "text"
      },
      "cell_type": "markdown",
      "source": [
        "### Build generators"
      ]
    },
    {
      "metadata": {
        "id": "htwoddmUJiN4",
        "colab_type": "code",
        "colab": {
          "base_uri": "https://localhost:8080/",
          "height": 85
        },
        "outputId": "ded6ce57-e518-4c67-fd97-dde8689f4e34"
      },
      "cell_type": "code",
      "source": [
        "train_lists, val_lists = get_lists_from_folders(train_list_path, val_list_path, imgs_folder, classes_folder)\n",
        "train_arrays = get_imgs_classes_arrays(*train_lists, img_shape)\n",
        "val_arrays = get_imgs_classes_arrays(*val_lists, img_shape)"
      ],
      "execution_count": 8,
      "outputs": [
        {
          "output_type": "stream",
          "text": [
            "start constructing arrays\n",
            "arrays constructed. time: 79 secs\n",
            "start constructing arrays\n",
            "arrays constructed. time: 78 secs\n"
          ],
          "name": "stdout"
        }
      ]
    },
    {
      "metadata": {
        "id": "Y5gW0hS7K-zu",
        "colab_type": "code",
        "colab": {}
      },
      "cell_type": "code",
      "source": [
        "steps_per_epoch= len(train_lists[0]) // batch_size\n",
        "train_gen = imgs_generator(*train_arrays, batch_size, out_resized_levels, segmentation_classes)\n",
        "val_gen = imgs_generator(*val_arrays, batch_size, out_resized_levels, segmentation_classes)"
      ],
      "execution_count": 0,
      "outputs": []
    },
    {
      "metadata": {
        "id": "-T1pn456JmX9",
        "colab_type": "text"
      },
      "cell_type": "markdown",
      "source": [
        "### Build model"
      ]
    },
    {
      "metadata": {
        "id": "kmb58dH0JWJz",
        "colab_type": "code",
        "colab": {
          "base_uri": "https://localhost:8080/",
          "height": 34
        },
        "outputId": "8c7f7e65-2553-4d0c-cc11-03ca25a585b5"
      },
      "cell_type": "code",
      "source": [
        "atrous_unet = AtrousUnet(img_shape, filters, segmentation_classes,\n",
        "                         steps, out_resized_levels, kernel_sizes, use_depthwise=True)\n",
        "\n",
        "atrous_unet.build_model()\n",
        "print('number of parameters:', atrous_unet.model.count_params())"
      ],
      "execution_count": 10,
      "outputs": [
        {
          "output_type": "stream",
          "text": [
            "number of parameters: 2091572\n"
          ],
          "name": "stdout"
        }
      ]
    },
    {
      "metadata": {
        "id": "SFwX9lz_wRPf",
        "colab_type": "text"
      },
      "cell_type": "markdown",
      "source": [
        "### Compile model"
      ]
    },
    {
      "metadata": {
        "id": "z0-6eq9zwUcX",
        "colab_type": "code",
        "colab": {}
      },
      "cell_type": "code",
      "source": [
        "optimizer = Adam(0.0001)\n",
        "\n",
        "losses = ['categorical_crossentropy'] * (out_resized_levels + 1)  # mse\n",
        "atrous_unet.model.compile(optimizer=optimizer, loss=losses, metrics=['categorical_accuracy'])\n",
        "!mkdir {wdir}/logs/"
      ],
      "execution_count": 0,
      "outputs": []
    },
    {
      "metadata": {
        "id": "mt0sIeY2TkTj",
        "colab_type": "text"
      },
      "cell_type": "markdown",
      "source": [
        "### Train model"
      ]
    },
    {
      "metadata": {
        "id": "KUL4vW7X8GDq",
        "colab_type": "code",
        "colab": {}
      },
      "cell_type": "code",
      "source": [
        "class_weight = get_class_weight(segmentation_classes) \n",
        "checkpointer = ModelCheckpoint(filepath=wdir+'/logs/weights.hdf5', verbose=1, save_best_only=True)\n",
        "download_weights = DownloadWeights(wdir)"
      ],
      "execution_count": 0,
      "outputs": []
    },
    {
      "metadata": {
        "id": "IOqy9baDTpDC",
        "colab_type": "code",
        "colab": {
          "base_uri": "https://localhost:8080/",
          "height": 71
        },
        "outputId": "b097c15d-f921-43a7-c297-d8e921e12ee1"
      },
      "cell_type": "code",
      "source": [
        "history = atrous_unet.model.fit_generator(train_gen,\n",
        "                                          steps_per_epoch=steps_per_epoch, epochs=epochs,\n",
        "                                          verbose=1, validation_data=val_gen, validation_steps=val_steps,\n",
        "                                          class_weight=class_weight, callbacks=[checkpointer, download_weights])"
      ],
      "execution_count": 0,
      "outputs": [
        {
          "output_type": "stream",
          "text": [
            "Epoch 1/10\n",
            "345/732 [=============>................] - ETA: 17:51 - loss: 6.7886 - out_sampled_1_loss: 2.2507 - out_sampled_0_loss: 2.1310 - out_img_loss: 2.4069 - out_sampled_1_categorical_accuracy: 0.6093 - out_sampled_0_categorical_accuracy: 0.6600 - out_img_categorical_accuracy: 0.6245"
          ],
          "name": "stdout"
        },
        {
          "output_type": "stream",
          "text": [
            "704/732 [===========================>..] - ETA: 1:17 - loss: 6.0441 - out_sampled_1_loss: 1.9943 - out_sampled_0_loss: 1.9457 - out_img_loss: 2.1042 - out_sampled_1_categorical_accuracy: 0.6441 - out_sampled_0_categorical_accuracy: 0.6688 - out_img_categorical_accuracy: 0.6514"
          ],
          "name": "stdout"
        },
        {
          "output_type": "stream",
          "text": [
            "713/732 [============================>.] - ETA: 52s - loss: 6.0311 - out_sampled_1_loss: 1.9898 - out_sampled_0_loss: 1.9421 - out_img_loss: 2.0992 - out_sampled_1_categorical_accuracy: 0.6442 - out_sampled_0_categorical_accuracy: 0.6686 - out_img_categorical_accuracy: 0.6514"
          ],
          "name": "stdout"
        }
      ]
    },
    {
      "metadata": {
        "id": "WGudDXdwC--I",
        "colab_type": "text"
      },
      "cell_type": "markdown",
      "source": [
        "### Download results (weights and history)"
      ]
    },
    {
      "metadata": {
        "id": "b0psim7oIYXn",
        "colab_type": "code",
        "colab": {}
      },
      "cell_type": "code",
      "source": [
        "with open('./history.pkl', 'wb') as handle:\n",
        "    pickle.dump(history.history, handle, protocol=pickle.HIGHEST_PROTOCOL)\n",
        "files.download('./weights.hdf5')\n",
        "files.download('./history.pkl')"
      ],
      "execution_count": 0,
      "outputs": []
    },
    {
      "metadata": {
        "id": "qgloSPnIDIeV",
        "colab_type": "text"
      },
      "cell_type": "markdown",
      "source": [
        "### Load weights"
      ]
    },
    {
      "metadata": {
        "id": "ptoytQ-rKWlo",
        "colab_type": "code",
        "colab": {}
      },
      "cell_type": "code",
      "source": [
        "# atrous_unet = AtrousUnet(img_shape, filters, segmentation_classes,\n",
        "#                          steps, out_resized_levels, kernel_sizes)\n",
        "# atrous_unet.build_model()\n",
        "# atrous_unet.model.load_weights('./weights.hdf5')"
      ],
      "execution_count": 0,
      "outputs": []
    },
    {
      "metadata": {
        "id": "Ma4guGx6wDpe",
        "colab_type": "text"
      },
      "cell_type": "markdown",
      "source": [
        "### Plot results"
      ]
    },
    {
      "metadata": {
        "id": "bdCd8P5U2B3O",
        "colab_type": "code",
        "colab": {}
      },
      "cell_type": "code",
      "source": [
        "imgs, labels = val_gen.__next__()\n",
        "predictions = atrous_unet.model.predict_on_batch(imgs)\n",
        "pred_labels = predictions[-1]\n",
        "pred_labels = get_images_from_predictions(pred_labels)\n",
        "\n",
        "real_labels = labels[-1]\n",
        "real_labels = get_images_from_predictions(real_labels)"
      ],
      "execution_count": 0,
      "outputs": []
    },
    {
      "metadata": {
        "id": "RTFpByDLHiWu",
        "colab_type": "code",
        "colab": {}
      },
      "cell_type": "code",
      "source": [
        "for img, real_label, pred_label in zip(imgs, real_labels, pred_labels):\n",
        "  f, (ax1, ax2, ax3) = plt.subplots(1, 3)\n",
        "  ax1.imshow(img)\n",
        "  ax1.axis('off')\n",
        "  ax2.imshow(real_label)\n",
        "  ax2.axis('off')\n",
        "  ax3.imshow(pred_label)\n",
        "  ax3.axis('off')\n",
        "  plt.show()"
      ],
      "execution_count": 0,
      "outputs": []
    },
    {
      "metadata": {
        "id": "MyyysUmf7col",
        "colab_type": "code",
        "colab": {}
      },
      "cell_type": "code",
      "source": [
        ""
      ],
      "execution_count": 0,
      "outputs": []
    }
  ]
}