{
  "nbformat": 4,
  "nbformat_minor": 0,
  "metadata": {
    "colab": {
      "name": "voc2012.ipynb",
      "version": "0.3.2",
      "provenance": [],
      "collapsed_sections": []
    },
    "kernelspec": {
      "name": "python3",
      "display_name": "Python 3"
    },
    "accelerator": "GPU"
  },
  "cells": [
    {
      "cell_type": "markdown",
      "metadata": {
        "id": "view-in-github",
        "colab_type": "text"
      },
      "source": [
        "[View in Colaboratory](https://colab.research.google.com/github/dkatsios/semantic_segmentation/blob/master/voc2012.ipynb)"
      ]
    },
    {
      "metadata": {
        "id": "5nyI7k-GbaLK",
        "colab_type": "code",
        "colab": {}
      },
      "cell_type": "code",
      "source": [
        "colab = True"
      ],
      "execution_count": 0,
      "outputs": []
    },
    {
      "metadata": {
        "id": "43IKGALxGDr4",
        "colab_type": "code",
        "colab": {}
      },
      "cell_type": "code",
      "source": [
        "import numpy as np\n",
        "import os\n",
        "from shutil import unpack_archive\n",
        "import cv2\n",
        "from matplotlib import pyplot as plt\n",
        "from IPython.display import Image\n",
        "import PIL\n",
        "from keras.optimizers import Adam\n",
        "from time import time\n",
        "if colab:\n",
        "  from google.colab import files\n",
        "import keras\n",
        "from keras.models import load_model\n",
        "from keras.callbacks import ModelCheckpoint\n",
        "import pickle"
      ],
      "execution_count": 0,
      "outputs": []
    },
    {
      "metadata": {
        "id": "foYYmKrmKCEq",
        "colab_type": "text"
      },
      "cell_type": "markdown",
      "source": [
        "### Download VOC 2012 dataset"
      ]
    },
    {
      "metadata": {
        "id": "Y-njzkyzDplH",
        "colab_type": "code",
        "colab": {}
      },
      "cell_type": "code",
      "source": [
        "if colab:\n",
        "#   %rm -r /content/semantic_segmentation\n",
        "#   %mkdir /content/semantic_segmentation\n",
        "#   %cd /content/semantic_segmentation/\n",
        "#   !wget http://host.robots.ox.ac.uk/pascal/VOC/voc2012/VOCtrainval_11-May-2012.tar\n",
        "#   unpack_archive('VOCtrainval_11-May-2012.tar', './')\n",
        "#   %rm VOCtrainval_11-May-2012.tar\n",
        "  wdir = '/content/semantic_segmentation'\n",
        "else:\n",
        "  wdir = 'E:/Data_Files/Workspaces/PyCharm/semantic_segmentation/'"
      ],
      "execution_count": 0,
      "outputs": []
    },
    {
      "metadata": {
        "id": "w8QH4XWEy1YZ",
        "colab_type": "code",
        "colab": {}
      },
      "cell_type": "code",
      "source": [
        "%cd {wdir}/VOCdevkit/VOC2012\n",
        "!ls"
      ],
      "execution_count": 0,
      "outputs": []
    },
    {
      "metadata": {
        "id": "LNq2KWv31kW2",
        "colab_type": "code",
        "colab": {}
      },
      "cell_type": "code",
      "source": [
        "imgs_folder = wdir + '/VOCdevkit/VOC2012/JPEGImages/'\n",
        "classes_folder = wdir + '/VOCdevkit/VOC2012/SegmentationClass/'\n",
        "train_list_path = wdir + '/VOCdevkit/VOC2012/ImageSets/Segmentation/train.txt'\n",
        "val_list_path = wdir + '/VOCdevkit/VOC2012/ImageSets/Segmentation/val.txt'"
      ],
      "execution_count": 0,
      "outputs": []
    },
    {
      "metadata": {
        "id": "c32_Y5H9KQOe",
        "colab_type": "text"
      },
      "cell_type": "markdown",
      "source": [
        "### Import helpers and Model files"
      ]
    },
    {
      "metadata": {
        "id": "iRS1BasOH9_L",
        "colab_type": "code",
        "colab": {}
      },
      "cell_type": "code",
      "source": [
        "if colab:\n",
        "    %cd {wdir}\n",
        "    %rm -r {wdir}/semantic_segmentation/\n",
        "    !git clone https://github.com/dkatsios/semantic_segmentation.git\n",
        "    %cd {wdir}/semantic_segmentation\n",
        "else:\n",
        "    %cd {wdir}\n",
        "%ls"
      ],
      "execution_count": 0,
      "outputs": []
    },
    {
      "metadata": {
        "id": "guNQw-HoICFy",
        "colab_type": "code",
        "colab": {}
      },
      "cell_type": "code",
      "source": [
        "!pip install import_ipynb\n",
        "import import_ipynb\n",
        "from voc2012_helpers import *\n",
        "from AtrusUnet_2 import  *"
      ],
      "execution_count": 0,
      "outputs": []
    },
    {
      "metadata": {
        "id": "GJYzkWcOKWmm",
        "colab_type": "text"
      },
      "cell_type": "markdown",
      "source": [
        "### Set parameters"
      ]
    },
    {
      "metadata": {
        "id": "E_UVWO53JEMZ",
        "colab_type": "code",
        "colab": {}
      },
      "cell_type": "code",
      "source": [
        "img_shape = 512, 512, 3\n",
        "filters = 128  # 256\n",
        "segmentation_classes = 21\n",
        "steps = 5\n",
        "out_resized_levels = 0\n",
        "kernel_sizes = [2, 3, 5, 7]  # [2, 3, 5, 7]\n",
        "dilation_rates = [1, 2, 3]  # [1, 2, 3]\n",
        "use_max_pooling = True\n",
        "use_depthwise = True\n",
        "pre_resized = False\n",
        "\n",
        "batch_size = 1\n",
        "epochs = 1\n",
        "val_steps = 10"
      ],
      "execution_count": 0,
      "outputs": []
    },
    {
      "metadata": {
        "id": "ikAKnviJJfKg",
        "colab_type": "text"
      },
      "cell_type": "markdown",
      "source": [
        "### Build generators"
      ]
    },
    {
      "metadata": {
        "id": "htwoddmUJiN4",
        "colab_type": "code",
        "colab": {}
      },
      "cell_type": "code",
      "source": [
        "train_lists, val_lists = get_lists_from_folders(train_list_path, val_list_path, imgs_folder, classes_folder)\n",
        "\n",
        "# train_lists = train_lists[0][:100], train_lists[1][:100]\n",
        "# val_lists = val_lists[0][:100], val_lists[1][:100]\n",
        "\n",
        "train_arrays = get_imgs_classes_arrays(*train_lists, img_shape)\n",
        "val_arrays = get_imgs_classes_arrays(*val_lists, img_shape)"
      ],
      "execution_count": 0,
      "outputs": []
    },
    {
      "metadata": {
        "id": "Y5gW0hS7K-zu",
        "colab_type": "code",
        "colab": {}
      },
      "cell_type": "code",
      "source": [
        "steps_per_epoch= len(train_lists[0]) // batch_size\n",
        "train_gen = imgs_generator(*train_arrays, batch_size, out_resized_levels, segmentation_classes, pre_resized, steps)\n",
        "val_gen = imgs_generator(*val_arrays, batch_size, out_resized_levels, segmentation_classes, pre_resized, steps)"
      ],
      "execution_count": 0,
      "outputs": []
    },
    {
      "metadata": {
        "id": "-T1pn456JmX9",
        "colab_type": "text"
      },
      "cell_type": "markdown",
      "source": [
        "### Build model"
      ]
    },
    {
      "metadata": {
        "id": "kmb58dH0JWJz",
        "colab_type": "code",
        "colab": {}
      },
      "cell_type": "code",
      "source": [
        "atrous_unet = AtrousUnet(img_shape, filters, segmentation_classes, steps, out_resized_levels,\n",
        "                         kernel_sizes, use_max_pooling=use_max_pooling, use_depthwise=use_depthwise,\n",
        "                         pre_resized=pre_resized, use_regularizers=False)\n",
        "\n",
        "atrous_unet.build_model()\n",
        "print('number of parameters:', atrous_unet.model.count_params())"
      ],
      "execution_count": 0,
      "outputs": []
    },
    {
      "metadata": {
        "id": "SFwX9lz_wRPf",
        "colab_type": "text"
      },
      "cell_type": "markdown",
      "source": [
        "### Compile model"
      ]
    },
    {
      "metadata": {
        "id": "sqpRfVCUTf8N",
        "colab_type": "code",
        "colab": {}
      },
      "cell_type": "code",
      "source": [
        "optimizer = Adam(0.0001)\n",
        "loss, metrics, loss_weights = get_loss_metrics_weights(out_resized_levels, use_dice=True, loss_factor=10.)\n",
        "\n",
        "atrous_unet.model.compile(optimizer=optimizer, loss=loss,\n",
        "                          metrics=metrics, loss_weights=loss_weights)\n",
        "if colab:\n",
        "    %mkdir {wdir}/logs/"
      ],
      "execution_count": 0,
      "outputs": []
    },
    {
      "metadata": {
        "id": "mt0sIeY2TkTj",
        "colab_type": "text"
      },
      "cell_type": "markdown",
      "source": [
        "### Train model"
      ]
    },
    {
      "metadata": {
        "id": "KUL4vW7X8GDq",
        "colab_type": "code",
        "colab": {}
      },
      "cell_type": "code",
      "source": [
        "class_weight = None  # get_class_weight(segmentation_classes, background_ratio=1/1)\n",
        "weights_path = wdir + '/logs/weights.hdf5'\n",
        "checkpointer = ModelCheckpoint(filepath=weights_path, verbose=1, save_best_only=True)\n",
        "callbacks = [checkpointer]"
      ],
      "execution_count": 0,
      "outputs": []
    },
    {
      "metadata": {
        "id": "0prWcVYenADg",
        "colab_type": "code",
        "colab": {}
      },
      "cell_type": "code",
      "source": [
        "atrous_unet.model.summary()"
      ],
      "execution_count": 0,
      "outputs": []
    },
    {
      "metadata": {
        "id": "IOqy9baDTpDC",
        "colab_type": "code",
        "colab": {}
      },
      "cell_type": "code",
      "source": [
        "history = atrous_unet.model.fit_generator(train_gen,\n",
        "                                          steps_per_epoch=steps_per_epoch, epochs=20,\n",
        "                                          verbose=1, validation_data=val_gen, validation_steps=val_steps,\n",
        "                                          class_weight=class_weight, callbacks=callbacks)\n",
        "\n",
        "with open(wdir+'/logs/history.pkl', 'wb') as handle:\n",
        "    pickle.dump(history.history, handle, protocol=pickle.HIGHEST_PROTOCOL)"
      ],
      "execution_count": 0,
      "outputs": []
    },
    {
      "metadata": {
        "id": "WGudDXdwC--I",
        "colab_type": "text"
      },
      "cell_type": "markdown",
      "source": [
        "### Download results (weights and history)"
      ]
    },
    {
      "metadata": {
        "id": "b0psim7oIYXn",
        "colab_type": "code",
        "colab": {}
      },
      "cell_type": "code",
      "source": [
        "# files.download(wdir+'/logs/weights.hdf5')\n",
        "# files.download(wdir+'/logs/history.pkl')"
      ],
      "execution_count": 0,
      "outputs": []
    },
    {
      "metadata": {
        "id": "qgloSPnIDIeV",
        "colab_type": "text"
      },
      "cell_type": "markdown",
      "source": [
        "### Load weights"
      ]
    },
    {
      "metadata": {
        "id": "ptoytQ-rKWlo",
        "colab_type": "code",
        "colab": {}
      },
      "cell_type": "code",
      "source": [
        "atrous_unet = AtrousUnet(img_shape, filters, segmentation_classes, steps, out_resized_levels,\n",
        "                         kernel_sizes,use_max_pooling=use_max_pooling, use_depthwise=use_depthwise)\n",
        "\n",
        "atrous_unet.build_model()\n",
        "atrous_unet.model.load_weights(wdir + '/logs/weights.hdf5')"
      ],
      "execution_count": 0,
      "outputs": []
    },
    {
      "metadata": {
        "id": "Ma4guGx6wDpe",
        "colab_type": "text"
      },
      "cell_type": "markdown",
      "source": [
        "### Plot results"
      ]
    },
    {
      "metadata": {
        "id": "yZuwOe1jdTkw",
        "colab_type": "code",
        "colab": {}
      },
      "cell_type": "code",
      "source": [
        "def get_images_from_predictions(preds):\n",
        "  cmap_dict = get_cmap_dict(reversed=True)\n",
        "  preds = np.argmax(preds, axis=-1)\n",
        "  imgs = np.zeros((*preds.shape, 3))\n",
        "  for i, pred in enumerate(preds):\n",
        "    for j in range(pred.shape[0]):\n",
        "      for k in range(pred.shape[1]):\n",
        "        imgs[i, j, k, :] = cmap_dict[pred[j, k]]\n",
        "  \n",
        "  return imgs"
      ],
      "execution_count": 0,
      "outputs": []
    },
    {
      "metadata": {
        "id": "bdCd8P5U2B3O",
        "colab_type": "code",
        "colab": {}
      },
      "cell_type": "code",
      "source": [
        "imgs, labels = val_gen.__next__()\n",
        "predictions = atrous_unet.model.predict_on_batch(imgs)\n",
        "pred_labels = predictions[-1] if len(predictions[0].shape) > 3 else predictions\n",
        "pred_labels = get_images_from_predictions(pred_labels)\n",
        "real_labels = labels['prediction']  # labels[-1] if isinstance(labels, list) and len(labels[0].shape) > 3 else labels\n",
        "real_labels = get_images_from_predictions(real_labels)"
      ],
      "execution_count": 0,
      "outputs": []
    },
    {
      "metadata": {
        "id": "D5BbSRp3XdVQ",
        "colab_type": "code",
        "colab": {}
      },
      "cell_type": "code",
      "source": [
        "np.max(np.argmax(predictions[-1], axis=-1))"
      ],
      "execution_count": 0,
      "outputs": []
    },
    {
      "metadata": {
        "id": "RTFpByDLHiWu",
        "colab_type": "code",
        "colab": {}
      },
      "cell_type": "code",
      "source": [
        "for img, real_label, pred_label in zip(imgs, real_labels, pred_labels):\n",
        "  f, (ax1, ax2, ax3) = plt.subplots(1, 3)\n",
        "  ax1.imshow(img)\n",
        "  ax1.axis('off')\n",
        "  ax2.imshow(real_label)\n",
        "  ax2.axis('off')\n",
        "  ax3.imshow(pred_label)\n",
        "  ax3.axis('off')\n",
        "  plt.show()"
      ],
      "execution_count": 0,
      "outputs": []
    },
    {
      "metadata": {
        "id": "MyyysUmf7col",
        "colab_type": "code",
        "colab": {}
      },
      "cell_type": "code",
      "source": [
        ""
      ],
      "execution_count": 0,
      "outputs": []
    }
  ]
}