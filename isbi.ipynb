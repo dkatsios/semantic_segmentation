{
  "nbformat": 4,
  "nbformat_minor": 0,
  "metadata": {
    "colab": {
      "name": "isbi.ipynb",
      "version": "0.3.2",
      "provenance": [],
      "collapsed_sections": [],
      "include_colab_link": true
    },
    "kernelspec": {
      "name": "python3",
      "display_name": "Python 3"
    },
    "accelerator": "GPU"
  },
  "cells": [
    {
      "cell_type": "markdown",
      "metadata": {
        "id": "view-in-github",
        "colab_type": "text"
      },
      "source": [
        "[View in Colaboratory](https://colab.research.google.com/github/dkatsios/semantic_segmentation/blob/master/isbi.ipynb)"
      ]
    },
    {
      "metadata": {
        "id": "5nyI7k-GbaLK",
        "colab_type": "code",
        "colab": {}
      },
      "cell_type": "code",
      "source": [
        "colab = True"
      ],
      "execution_count": 0,
      "outputs": []
    },
    {
      "metadata": {
        "id": "43IKGALxGDr4",
        "colab_type": "code",
        "colab": {}
      },
      "cell_type": "code",
      "source": [
        "import numpy as np\n",
        "import os\n",
        "from shutil import unpack_archive\n",
        "import cv2\n",
        "from matplotlib import pyplot as plt\n",
        "from IPython.display import Image\n",
        "import PIL\n",
        "from keras.optimizers import Adam\n",
        "from time import time\n",
        "if colab:\n",
        "  from google.colab import files\n",
        "import keras\n",
        "from keras.models import load_model\n",
        "from keras.callbacks import ModelCheckpoint\n",
        "import pickle"
      ],
      "execution_count": 0,
      "outputs": []
    },
    {
      "metadata": {
        "id": "foYYmKrmKCEq",
        "colab_type": "text"
      },
      "cell_type": "markdown",
      "source": [
        "### Download ISBI dataset"
      ]
    },
    {
      "metadata": {
        "id": "Y-njzkyzDplH",
        "colab_type": "code",
        "colab": {}
      },
      "cell_type": "code",
      "source": [
        "if colab:\n",
        "#   %rm -r /content/semantic_segmentation/unet\n",
        "#   %mkdir /content/semantic_segmentation\n",
        "#   %cd /content/semantic_segmentation/\n",
        "#   !git clone https://github.com/zhixuhao/unet.git\n",
        "#   %cd /content/semantic_segmentation/unet/data/membrane/\n",
        "#   !ls\n",
        "  wdir = '/content/semantic_segmentation/unet/data/membrane/'\n",
        "else:\n",
        "  wdir = 'E:/Data_Files/Workspaces/PyCharm/semantic_segmentation/'"
      ],
      "execution_count": 0,
      "outputs": []
    },
    {
      "metadata": {
        "id": "gD5ghwmpV7X3",
        "colab_type": "code",
        "colab": {}
      },
      "cell_type": "code",
      "source": [
        "%cd /content/semantic_segmentation/unet/data/membrane/train\n",
        "!ls"
      ],
      "execution_count": 0,
      "outputs": []
    },
    {
      "metadata": {
        "id": "c32_Y5H9KQOe",
        "colab_type": "text"
      },
      "cell_type": "markdown",
      "source": [
        "### Import helpers and Model files"
      ]
    },
    {
      "metadata": {
        "id": "iRS1BasOH9_L",
        "colab_type": "code",
        "colab": {}
      },
      "cell_type": "code",
      "source": [
        "if colab:\n",
        "    %cd {wdir}\n",
        "    %rm -r {wdir}/semantic_segmentation/\n",
        "    !git clone https://github.com/dkatsios/semantic_segmentation.git\n",
        "    %cd {wdir}/semantic_segmentation\n",
        "else:\n",
        "    %cd {wdir}\n",
        "%ls"
      ],
      "execution_count": 0,
      "outputs": []
    },
    {
      "metadata": {
        "id": "guNQw-HoICFy",
        "colab_type": "code",
        "colab": {}
      },
      "cell_type": "code",
      "source": [
        "!pip install import_ipynb\n",
        "import import_ipynb\n",
        "from voc2012_helpers import *\n",
        "from AtrusUnet_3 import  *"
      ],
      "execution_count": 0,
      "outputs": []
    },
    {
      "metadata": {
        "id": "GJYzkWcOKWmm",
        "colab_type": "text"
      },
      "cell_type": "markdown",
      "source": [
        "### Set parameters"
      ]
    },
    {
      "metadata": {
        "id": "E_UVWO53JEMZ",
        "colab_type": "code",
        "colab": {}
      },
      "cell_type": "code",
      "source": [
        "img_shape = 512, 512, 3\n",
        "filters = 1024  # 128\n",
        "segmentation_classes = 1\n",
        "steps = 4\n",
        "out_resized_levels = 0\n",
        "kernel_sizes = [2, 3, 5, 7]\n",
        "dilation_rates = [1, 2, 3]\n",
        "\n",
        "use_max_pooling = True\n",
        "use_depthwise = True\n",
        "pre_resized = False\n",
        "feed_resized = False\n",
        "\n",
        "classify = False\n",
        "only_labels = False\n",
        "single_class = False\n",
        "\n",
        "use_regularizers=False\n",
        "kernel_init_he = True\n",
        "\n",
        "batch_size = 1\n",
        "test_batch_size = 4\n",
        "\n",
        "epochs = 40\n",
        "val_steps = 10"
      ],
      "execution_count": 0,
      "outputs": []
    },
    {
      "metadata": {
        "id": "ikAKnviJJfKg",
        "colab_type": "text"
      },
      "cell_type": "markdown",
      "source": [
        "### Build generators"
      ]
    },
    {
      "metadata": {
        "id": "ZXPVtn4zWlfS",
        "colab_type": "code",
        "colab": {}
      },
      "cell_type": "code",
      "source": [
        "train_folder = wdir + 'train/'\n",
        "imgs_folder, classes_folder = train_folder + 'image/', train_folder + 'label/'\n",
        "imgs_list, classes_list = get_lists(imgs_folder, classes_folder)\n",
        "train_arrays = get_isbi_imgs_classes_arrays(imgs_list[5:], classes_list[5:], img_shape)\n",
        "\n",
        "val_folder = wdir + 'train/'\n",
        "imgs_folder, classes_folder = val_folder + 'image/', val_folder + 'label/'\n",
        "imgs_list, classes_list = get_lists(imgs_folder, classes_folder)\n",
        "val_arrays = get_isbi_imgs_classes_arrays(imgs_list[:5], classes_list[:5], img_shape)"
      ],
      "execution_count": 0,
      "outputs": []
    },
    {
      "metadata": {
        "id": "Y5gW0hS7K-zu",
        "colab_type": "code",
        "colab": {}
      },
      "cell_type": "code",
      "source": [
        "steps_per_epoch= train_arrays[0].shape[0] // batch_size\n",
        "train_gen = isbi_imgs_generator(*train_arrays, batch_size, out_resized_levels, segmentation_classes,\n",
        "                                pre_resized=pre_resized, classify=classify, steps=steps, single_class=single_class)\n",
        "val_gen = isbi_imgs_generator(*val_arrays, batch_size, out_resized_levels, segmentation_classes,\n",
        "                              pre_resized=pre_resized, classify=classify, steps=steps, single_class=single_class)\n",
        "test_gen = isbi_imgs_generator(*val_arrays, test_batch_size, out_resized_levels, segmentation_classes,\n",
        "                               pre_resized=pre_resized, classify=classify, steps=steps, single_class=single_class)"
      ],
      "execution_count": 0,
      "outputs": []
    },
    {
      "metadata": {
        "id": "-T1pn456JmX9",
        "colab_type": "text"
      },
      "cell_type": "markdown",
      "source": [
        "### Build model"
      ]
    },
    {
      "metadata": {
        "id": "kmb58dH0JWJz",
        "colab_type": "code",
        "colab": {}
      },
      "cell_type": "code",
      "source": [
        "atrous_unet = AtrousUnet(img_shape, filters, segmentation_classes, steps, out_resized_levels,\n",
        "                         kernel_sizes, use_max_pooling=use_max_pooling, use_depthwise=use_depthwise,\n",
        "                         pre_resized=pre_resized, classify=classify, single_class=single_class,\n",
        "                         only_labels=only_labels, use_regularizers=use_regularizers,\n",
        "                         kernel_init_he=kernel_init_he, feed_resized=feed_resized)\n",
        "\n",
        "atrous_unet.build_model()\n",
        "print('number of parameters:', atrous_unet.model.count_params())"
      ],
      "execution_count": 0,
      "outputs": []
    },
    {
      "metadata": {
        "id": "SFwX9lz_wRPf",
        "colab_type": "text"
      },
      "cell_type": "markdown",
      "source": [
        "### Compile model"
      ]
    },
    {
      "metadata": {
        "id": "sqpRfVCUTf8N",
        "colab_type": "code",
        "colab": {}
      },
      "cell_type": "code",
      "source": [
        "optimizer = Adam(1e-4)\n",
        "loss, metrics, loss_weights = get_loss_metrics_weights(out_resized_levels, use_dice=False, classify=classify,\n",
        "                                                       segmentation_classes=segmentation_classes,\n",
        "                                                       only_labels=only_labels, single_class=single_class,\n",
        "                                                       loss_factor=10.)\n",
        "label_metrics = Metrics() if False else None\n",
        "  \n",
        "atrous_unet.model.compile(optimizer=optimizer, loss=loss,\n",
        "                          metrics=metrics, loss_weights=loss_weights)\n",
        "if colab:\n",
        "    %mkdir {wdir}logs/"
      ],
      "execution_count": 0,
      "outputs": []
    },
    {
      "metadata": {
        "id": "mt0sIeY2TkTj",
        "colab_type": "text"
      },
      "cell_type": "markdown",
      "source": [
        "### Train model"
      ]
    },
    {
      "metadata": {
        "id": "KUL4vW7X8GDq",
        "colab_type": "code",
        "colab": {}
      },
      "cell_type": "code",
      "source": [
        "weights_path = wdir + 'logs/weights.hdf5'\n",
        "class_weight=None\n",
        "checkpointer = ModelCheckpoint(filepath=weights_path, verbose=1, save_best_only=True)\n",
        "callbacks = [checkpointer]\n",
        "if label_metrics is not None: callbacks.append(label_metrics)"
      ],
      "execution_count": 0,
      "outputs": []
    },
    {
      "metadata": {
        "id": "0prWcVYenADg",
        "colab_type": "code",
        "colab": {}
      },
      "cell_type": "code",
      "source": [
        "# atrous_unet.model.summary()"
      ],
      "execution_count": 0,
      "outputs": []
    },
    {
      "metadata": {
        "id": "IOqy9baDTpDC",
        "colab_type": "code",
        "colab": {}
      },
      "cell_type": "code",
      "source": [
        "history = atrous_unet.model.fit_generator(train_gen,\n",
        "                                          steps_per_epoch=steps_per_epoch, epochs=epochs,\n",
        "                                          verbose=1, validation_data=val_gen, validation_steps=val_steps,\n",
        "                                          class_weight=class_weight, callbacks=callbacks)\n",
        "\n",
        "with open(wdir+'logs/history.pkl', 'wb') as handle:\n",
        "    pickle.dump(history.history, handle, protocol=pickle.HIGHEST_PROTOCOL)"
      ],
      "execution_count": 0,
      "outputs": []
    },
    {
      "metadata": {
        "id": "WGudDXdwC--I",
        "colab_type": "text"
      },
      "cell_type": "markdown",
      "source": [
        "### Download results (weights and history)"
      ]
    },
    {
      "metadata": {
        "id": "b0psim7oIYXn",
        "colab_type": "code",
        "colab": {}
      },
      "cell_type": "code",
      "source": [
        "# files.download(wdir+'logs/weights.hdf5')\n",
        "# files.download(wdir+'logs/history.pkl')"
      ],
      "execution_count": 0,
      "outputs": []
    },
    {
      "metadata": {
        "id": "qgloSPnIDIeV",
        "colab_type": "text"
      },
      "cell_type": "markdown",
      "source": [
        "### Load weights"
      ]
    },
    {
      "metadata": {
        "id": "ptoytQ-rKWlo",
        "colab_type": "code",
        "colab": {}
      },
      "cell_type": "code",
      "source": [
        "# atrous_unet = AtrousUnet(img_shape, filters, segmentation_classes, steps, out_resized_levels,\n",
        "#                          kernel_sizes,use_max_pooling=use_max_pooling, use_depthwise=use_depthwise)\n",
        "\n",
        "# atrous_unet.build_model()\n",
        "# atrous_unet.model.load_weights(wdir + 'logs/weights.hdf5')"
      ],
      "execution_count": 0,
      "outputs": []
    },
    {
      "metadata": {
        "id": "Ma4guGx6wDpe",
        "colab_type": "text"
      },
      "cell_type": "markdown",
      "source": [
        "### Plot results"
      ]
    },
    {
      "metadata": {
        "id": "e8YQjwyc1V1X",
        "colab_type": "code",
        "colab": {}
      },
      "cell_type": "code",
      "source": [
        "# imgs, labels = val_gen.__next__()\n",
        "# labels = labels['labels']\n",
        "# predictions = atrous_unet.model.predict_on_batch(imgs)\n",
        "# print(list(zip(*np.where(labels))))\n",
        "# print(list(zip(*np.where(predictions > .3)))) \n",
        "# plt.imshow((imgs[0] + 1) * 127.5)"
      ],
      "execution_count": 0,
      "outputs": []
    },
    {
      "metadata": {
        "id": "bdCd8P5U2B3O",
        "colab_type": "code",
        "colab": {}
      },
      "cell_type": "code",
      "source": [
        "imgs, labels = test_gen.__next__()\n",
        "predictions = atrous_unet.model.predict_on_batch(imgs)\n",
        "imgs = (imgs + 1) * 127.5"
      ],
      "execution_count": 0,
      "outputs": []
    },
    {
      "metadata": {
        "id": "zsEpMyxDSf7x",
        "colab_type": "code",
        "colab": {}
      },
      "cell_type": "code",
      "source": [
        "predictions = predictions[-1] if isinstance(predictions, list) else predictions\n",
        "pred_labels = (predictions > .5).astype(np.float32)\n",
        "real_labels = labels['prediction']\n",
        "pred_labels = pred_labels[:, :, :, 0]  # np.tile(pred_labels, reps=(1, 1, 1, 3))\n",
        "real_labels = real_labels[:, :, :, 0]  # np.tile(real_labels, reps=(1, 1, 1, 3))"
      ],
      "execution_count": 0,
      "outputs": []
    },
    {
      "metadata": {
        "id": "RTFpByDLHiWu",
        "colab_type": "code",
        "colab": {}
      },
      "cell_type": "code",
      "source": [
        "for img, real_label, pred_label in zip(imgs, real_labels, pred_labels):\n",
        "  f, (ax1, ax2, ax3) = plt.subplots(1, 3)\n",
        "  ax1.imshow(img)\n",
        "  ax1.axis('off')\n",
        "  ax2.imshow(real_label, cmap='gray')\n",
        "  ax2.axis('off')\n",
        "  ax3.imshow(pred_label, cmap='gray')\n",
        "  ax3.axis('off')\n",
        "  plt.show()"
      ],
      "execution_count": 0,
      "outputs": []
    },
    {
      "metadata": {
        "id": "OITdP0Z4DsVZ",
        "colab_type": "code",
        "colab": {}
      },
      "cell_type": "code",
      "source": [
        ""
      ],
      "execution_count": 0,
      "outputs": []
    }
  ]
}